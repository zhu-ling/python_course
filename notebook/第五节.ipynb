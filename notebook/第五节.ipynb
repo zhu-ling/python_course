{
 "cells": [
  {
   "cell_type": "code",
   "execution_count": 9,
   "metadata": {},
   "outputs": [],
   "source": [
    "#函数\n",
    "from math import sqrt\n",
    "def pathlength(x,y):\n",
    "    L = 0\n",
    "    for i in range(1,len(x)):\n",
    "        L += sqrt((x[i]-x[i-1])**2+(y[i]-y[i-1])**2)\n",
    "    return L"
   ]
  },
  {
   "cell_type": "code",
   "execution_count": 10,
   "metadata": {},
   "outputs": [
    {
     "name": "stdout",
     "output_type": "stream",
     "text": [
      "3.414213562373095\n"
     ]
    }
   ],
   "source": [
    "#主程序\n",
    "x=[1,2,1,1]\n",
    "y=[1,1,2,1]\n",
    "print(pathlength(x,y))"
   ]
  },
  {
   "cell_type": "code",
   "execution_count": 68,
   "metadata": {},
   "outputs": [],
   "source": [
    "from math import sqrt\n",
    "def pathlength(z):\n",
    "    L = 0\n",
    "    for i in range(1,len(z)):\n",
    "        L += sqrt((z[i][0]-z[i-1][0])**2+(z[i][1]-z[i-1][1])**2)\n",
    "    return L"
   ]
  },
  {
   "cell_type": "code",
   "execution_count": 70,
   "metadata": {},
   "outputs": [
    {
     "name": "stdout",
     "output_type": "stream",
     "text": [
      "3.414213562373095\n"
     ]
    }
   ],
   "source": [
    "z=[[1,1],[2,1],[1,2],[1,1]]\n",
    "print(pathlength(z))"
   ]
  },
  {
   "cell_type": "markdown",
   "metadata": {},
   "source": [
    "分段函数"
   ]
  },
  {
   "cell_type": "code",
   "execution_count": 77,
   "metadata": {},
   "outputs": [],
   "source": [
    "from math import pi,sin\n",
    "def f(x):\n",
    "    if 0<=x<=pi:\n",
    "        value = sin(x)\n",
    "        return value\n",
    "    else:\n",
    "        value = 0\n",
    "        return value"
   ]
  },
  {
   "cell_type": "code",
   "execution_count": 78,
   "metadata": {},
   "outputs": [
    {
     "name": "stdout",
     "output_type": "stream",
     "text": [
      "0.8414709848078965\n"
     ]
    }
   ],
   "source": [
    "x=1\n",
    "print(f(x))"
   ]
  },
  {
   "cell_type": "code",
   "execution_count": 44,
   "metadata": {},
   "outputs": [],
   "source": [
    "from math import sqrt\n",
    "def pathlength(x,y):\n",
    "    L = 0\n",
    "    if len(x) == len(y) and len(x)>=2 and len(y)>=2:\n",
    "        for i in range(1,len(x)):\n",
    "            L += sqrt((x[i]-x[i-1])**2+(y[i]-y[i-1])**2)\n",
    "        return L\n",
    "    else:\n",
    "        print('......')\n",
    "        return None"
   ]
  },
  {
   "cell_type": "code",
   "execution_count": 45,
   "metadata": {},
   "outputs": [
    {
     "name": "stdout",
     "output_type": "stream",
     "text": [
      "......\n",
      "None\n"
     ]
    }
   ],
   "source": [
    "x=[1]\n",
    "y=[1,2]\n",
    "print(pathlength(x,y))"
   ]
  },
  {
   "cell_type": "code",
   "execution_count": 42,
   "metadata": {},
   "outputs": [],
   "source": [
    "from math import sqrt\n",
    "def pathlength(x,y):\n",
    "    L = 0\n",
    "    if len(x) == len(y):\n",
    "        for i in range(1,len(x)):\n",
    "            L += sqrt((x[i]-x[i-1])**2+(y[i]-y[i-1])**2)\n",
    "        return L\n",
    "    else:\n",
    "        print('......')\n",
    "        return None"
   ]
  },
  {
   "cell_type": "code",
   "execution_count": null,
   "metadata": {},
   "outputs": [],
   "source": []
  },
  {
   "cell_type": "markdown",
   "metadata": {},
   "source": [
    "print后面括号里是自变量"
   ]
  },
  {
   "cell_type": "code",
   "execution_count": 5,
   "metadata": {},
   "outputs": [],
   "source": [
    "def hw1():\n",
    "    return 'Hello,World!'"
   ]
  },
  {
   "cell_type": "code",
   "execution_count": 14,
   "metadata": {},
   "outputs": [],
   "source": [
    "def hw2():\n",
    "    print('Hello,World!')"
   ]
  },
  {
   "cell_type": "code",
   "execution_count": 23,
   "metadata": {},
   "outputs": [],
   "source": [
    "def hw3(a,b):\n",
    "    print(a,',',b)"
   ]
  },
  {
   "cell_type": "code",
   "execution_count": 24,
   "metadata": {},
   "outputs": [
    {
     "name": "stdout",
     "output_type": "stream",
     "text": [
      "Hello,World!\n"
     ]
    }
   ],
   "source": [
    "print (hw1())"
   ]
  },
  {
   "cell_type": "code",
   "execution_count": 25,
   "metadata": {},
   "outputs": [
    {
     "name": "stdout",
     "output_type": "stream",
     "text": [
      "Hello,World!\n"
     ]
    }
   ],
   "source": [
    "hw2()"
   ]
  },
  {
   "cell_type": "code",
   "execution_count": 26,
   "metadata": {},
   "outputs": [
    {
     "name": "stdout",
     "output_type": "stream",
     "text": [
      "Hello , World!\n"
     ]
    }
   ],
   "source": [
    "hw3('Hello','World!')"
   ]
  },
  {
   "cell_type": "code",
   "execution_count": 29,
   "metadata": {},
   "outputs": [],
   "source": [
    "def hw3(a,b):\n",
    "    print(a+','+b)     #2个字符串相加"
   ]
  },
  {
   "cell_type": "code",
   "execution_count": 30,
   "metadata": {},
   "outputs": [
    {
     "name": "stdout",
     "output_type": "stream",
     "text": [
      "Hello,World!\n"
     ]
    }
   ],
   "source": [
    "hw3('Hello','World!')"
   ]
  },
  {
   "cell_type": "code",
   "execution_count": 38,
   "metadata": {},
   "outputs": [],
   "source": [
    "from math import pi,sqrt,exp\n",
    "def gauss(x,m=0,s=1):\n",
    "    f=1/((sqrt(2*pi))*s)*exp(-0.5*((x-m)/s)**2)\n",
    "    return f"
   ]
  },
  {
   "cell_type": "code",
   "execution_count": 42,
   "metadata": {},
   "outputs": [
    {
     "name": "stdout",
     "output_type": "stream",
     "text": [
      "-5 1.4867195147342977e-06\n",
      "-4 0.00013383022576488537\n",
      "-3 0.0044318484119380075\n",
      "-2 0.05399096651318806\n",
      "-1 0.24197072451914337\n",
      "0 0.3989422804014327\n",
      "1 0.24197072451914337\n",
      "2 0.05399096651318806\n",
      "3 0.0044318484119380075\n",
      "4 0.00013383022576488537\n",
      "5 1.4867195147342977e-06\n",
      "[-5, -4, -3, -2, -1, 0, 1, 2, 3, 4, 5] [1.4867195147342977e-06, 0.00013383022576488537, 0.0044318484119380075, 0.05399096651318806, 0.24197072451914337, 0.3989422804014327, 0.24197072451914337, 0.05399096651318806, 0.0044318484119380075, 0.00013383022576488537, 1.4867195147342977e-06]\n"
     ]
    }
   ],
   "source": [
    "xlist=[]\n",
    "ylist=[]\n",
    "for x in range(-5,6,1):\n",
    "    y=gauss(x)\n",
    "    print(x,y)\n",
    "    xlist.append(x)\n",
    "    ylist.append(y)\n",
    "print(xlist,ylist)"
   ]
  },
  {
   "cell_type": "code",
   "execution_count": 49,
   "metadata": {},
   "outputs": [
    {
     "data": {
      "text/plain": [
       "[<matplotlib.lines.Line2D at 0xae36faec>]"
      ]
     },
     "execution_count": 49,
     "metadata": {},
     "output_type": "execute_result"
    },
    {
     "data": {
      "image/png": "[encoded data removed]",
      "text/plain": [
       "<matplotlib.figure.Figure at 0xae35e22c>"
      ]
     },
     "metadata": {},
     "output_type": "display_data"
    }
   ],
   "source": [
    "import matplotlib.pyplot as plt\n",
    "\n",
    "plt.plot(xlist,ylist,'rs-')"
   ]
  },
  {
   "cell_type": "code",
   "execution_count": 50,
   "metadata": {},
   "outputs": [
    {
     "name": "stdout",
     "output_type": "stream",
     "text": [
      "-5 0.0022159242059690038\n",
      "-4 0.00876415024678427\n",
      "-3 0.02699548325659403\n",
      "-2 0.06475879783294587\n",
      "-1 0.12098536225957168\n",
      "0 0.17603266338214976\n",
      "1 0.19947114020071635\n",
      "2 0.17603266338214976\n",
      "3 0.12098536225957168\n",
      "4 0.06475879783294587\n",
      "5 0.02699548325659403\n",
      "[-5, -4, -3, -2, -1, 0, 1, 2, 3, 4, 5] [0.0022159242059690038, 0.00876415024678427, 0.02699548325659403, 0.06475879783294587, 0.12098536225957168, 0.17603266338214976, 0.19947114020071635, 0.17603266338214976, 0.12098536225957168, 0.06475879783294587, 0.02699548325659403]\n"
     ]
    }
   ],
   "source": [
    "xlist=[]\n",
    "ylist=[]\n",
    "for x in range(-5,6,1):\n",
    "    y=gauss(x,m=1,s=2)\n",
    "    print(x,y)\n",
    "    xlist.append(x)\n",
    "    ylist.append(y)\n",
    "print(xlist,ylist)"
   ]
  },
  {
   "cell_type": "code",
   "execution_count": 51,
   "metadata": {},
   "outputs": [
    {
     "data": {
      "text/plain": [
       "[<matplotlib.lines.Line2D at 0xae29418c>]"
      ]
     },
     "execution_count": 51,
     "metadata": {},
     "output_type": "execute_result"
    },
    {
     "data": {
      "image/png": "[encoded data removed]",
      "text/plain": [
       "<matplotlib.figure.Figure at 0xae39632c>"
      ]
     },
     "metadata": {},
     "output_type": "display_data"
    }
   ],
   "source": [
    "import matplotlib.pyplot as plt\n",
    "\n",
    "plt.plot(xlist,ylist,'rs-')"
   ]
  },
  {
   "cell_type": "code",
   "execution_count": 60,
   "metadata": {},
   "outputs": [
    {
     "name": "stdout",
     "output_type": "stream",
     "text": [
      "[-5, -4, -3, -2, -1, 0, 1, 2, 3, 4, 5] [1.4867195147342977e-06, 0.00013383022576488537, 0.0044318484119380075, 0.05399096651318806, 0.24197072451914337, 0.3989422804014327, 0.24197072451914337, 0.05399096651318806, 0.0044318484119380075, 0.00013383022576488537, 1.4867195147342977e-06]\n"
     ]
    }
   ],
   "source": [
    "ylist=list(map(gauss,xlist))     #map生成的不是一个函数，需要加一个list来生成。\n",
    "print(xlist,ylist)"
   ]
  },
  {
   "cell_type": "code",
   "execution_count": 58,
   "metadata": {},
   "outputs": [
    {
     "name": "stdout",
     "output_type": "stream",
     "text": [
      "[-5, -4, -3, -2, -1, 0, 1, 2, 3, 4, 5] [1.4867195147342977e-06, 0.00013383022576488537, 0.0044318484119380075, 0.05399096651318806, 0.24197072451914337, 0.3989422804014327, 0.24197072451914337, 0.05399096651318806, 0.0044318484119380075, 0.00013383022576488537, 1.4867195147342977e-06]\n"
     ]
    }
   ],
   "source": [
    "ylist=[gauss(x) for x in xlist]      #调用函数的时候需要加上自变量\n",
    "print(xlist,ylist)"
   ]
  },
  {
   "cell_type": "markdown",
   "metadata": {},
   "source": [
    "list只有加法和乘法"
   ]
  },
  {
   "cell_type": "code",
   "execution_count": null,
   "metadata": {},
   "outputs": [],
   "source": []
  }
 ],
 "metadata": {
  "kernelspec": {
   "display_name": "Python 3",
   "language": "python",
   "name": "python3"
  },
  "language_info": {
   "codemirror_mode": {
    "name": "ipython",
    "version": 3
   },
   "file_extension": ".py",
   "mimetype": "text/x-python",
   "name": "python",
   "nbconvert_exporter": "python",
   "pygments_lexer": "ipython3",
   "version": "3.5.2"
  }
 },
 "nbformat": 4,
 "nbformat_minor": 2
}
